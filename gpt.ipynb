{
 "cells": [
  {
   "cell_type": "code",
   "execution_count": 9,
   "metadata": {},
   "outputs": [],
   "source": [
    "# https://github.com/wannaphong/thaigpt-next/blob/main/text_generation.ipynb\n",
    "# https://github.com/maranemil/howto/blob/1b2e8d59c6e6848c29571d66089aea5179c737ac/fullstack/python/pytorch/pytorch_gpt3_neo.py\n",
    "\n",
    "from transformers import pipeline\n",
    "from transformers import AutoTokenizer, GPTNeoForCausalLM\n",
    "\n",
    "model_name = 'wannaphong/thaigpt-next-125m'"
   ]
  },
  {
   "cell_type": "code",
   "execution_count": 36,
   "metadata": {},
   "outputs": [],
   "source": [
    "tokenizer = AutoTokenizer.from_pretrained(model_name, bos_token = \"<s>\")\n",
    "model = GPTNeoForCausalLM.from_pretrained(model_name)"
   ]
  },
  {
   "cell_type": "code",
   "execution_count": null,
   "metadata": {},
   "outputs": [
    {
     "name": "stderr",
     "output_type": "stream",
     "text": [
      "Setting `pad_token_id` to `eos_token_id`:50256 for open-end generation.\n"
     ]
    }
   ],
   "source": [
    "generate = pipeline(task = \"text-generation\", \n",
    "                    tokenizer = tokenizer,\n",
    "                    model = model)\n",
    "generate(\"<s>อำนาจอธิปไตยเป็นของปวงชนชาวไทย\", \n",
    "         do_sample=True, \n",
    "         top_k=50, \n",
    "         max_length=300, \n",
    "         top_p=0.95, \n",
    "         temperature=0.8, \n",
    "         num_return_sequences=10)"
   ]
  }
 ],
 "metadata": {
  "kernelspec": {
   "display_name": "Python 3.9.5 64-bit",
   "language": "python",
   "name": "python39564bit34cf92e34ef4413faf5bc015b8d6eabe"
  },
  "language_info": {
   "codemirror_mode": {
    "name": "ipython",
    "version": 3
   },
   "file_extension": ".py",
   "mimetype": "text/x-python",
   "name": "python",
   "nbconvert_exporter": "python",
   "pygments_lexer": "ipython3",
   "version": "3.9.6"
  }
 },
 "nbformat": 4,
 "nbformat_minor": 4
}
