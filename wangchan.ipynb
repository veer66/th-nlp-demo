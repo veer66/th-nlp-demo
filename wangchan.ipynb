{
 "cells": [
  {
   "cell_type": "code",
   "execution_count": 31,
   "metadata": {},
   "outputs": [],
   "source": [
    "# Based on https://github.com/wannaphong/thaigpt-next\n",
    "# Based on https://huggingface.co/bert-base-uncased?text=Paris+is+the+%5BMASK%5D+of+France\n",
    "# Based on https://github.com/PyThaiNLP/pythainlp/blob/1c69af2d0efaa5ce18ba18bef3e1dde8aab4c525/pythainlp/wangchanberta/core.py\n",
    "# Based on https://colab.research.google.com/drive/1Kbk6sBspZLwcnOE61adAQo30xxqOQ9ko\n",
    "\n",
    "from transformers import pipeline\n",
    "from transformers import AutoTokenizer, AutoModelForSequenceClassification"
   ]
  },
  {
   "cell_type": "code",
   "execution_count": 21,
   "metadata": {},
   "outputs": [],
   "source": [
    "tokenizer = AutoTokenizer.from_pretrained('airesearch/wangchanberta-base-att-spm-uncased')\n",
    "model_name = 'airesearch/wangchanberta-base-att-spm-uncased'"
   ]
  },
  {
   "cell_type": "code",
   "execution_count": 22,
   "metadata": {},
   "outputs": [],
   "source": [
    "fill_mask = pipeline(task='fill-mask',\n",
    "                     tokenizer=tokenizer,\n",
    "                     model = model_name,\n",
    "                     revision = 'main')"
   ]
  },
  {
   "cell_type": "code",
   "execution_count": 29,
   "metadata": {},
   "outputs": [
    {
     "data": {
      "text/plain": [
       "[{'sequence': 'อํานาจอธิปไตยเป็นของคนไทยทุกคน',\n",
       "  'score': 0.40914350748062134,\n",
       "  'token': 18355,\n",
       "  'token_str': 'คนไทยทุกคน'},\n",
       " {'sequence': 'อํานาจอธิปไตยเป็นของผู้ใด',\n",
       "  'score': 0.12726660072803497,\n",
       "  'token': 4863,\n",
       "  'token_str': 'ผู้ใด'},\n",
       " {'sequence': 'อํานาจอธิปไตยเป็นของทุกคน',\n",
       "  'score': 0.09496613591909409,\n",
       "  'token': 343,\n",
       "  'token_str': 'ทุกคน'},\n",
       " {'sequence': 'อํานาจอธิปไตยเป็นของราษฎร',\n",
       "  'score': 0.08089866489171982,\n",
       "  'token': 3181,\n",
       "  'token_str': 'ราษฎร'},\n",
       " {'sequence': 'อํานาจอธิปไตยเป็นของกษัตริย์',\n",
       "  'score': 0.02152707241475582,\n",
       "  'token': 1149,\n",
       "  'token_str': 'กษัตริย์'}]"
      ]
     },
     "execution_count": 29,
     "metadata": {},
     "output_type": "execute_result"
    }
   ],
   "source": [
    "text = \"อำนาจอธิปไตยเป็นของ<mask><pad>\"\n",
    "fill_mask(text)"
   ]
  }
 ],
 "metadata": {
  "kernelspec": {
   "display_name": "Python 3.9.5 64-bit",
   "language": "python",
   "name": "python39564bit34cf92e34ef4413faf5bc015b8d6eabe"
  },
  "language_info": {
   "codemirror_mode": {
    "name": "ipython",
    "version": 3
   },
   "file_extension": ".py",
   "mimetype": "text/x-python",
   "name": "python",
   "nbconvert_exporter": "python",
   "pygments_lexer": "ipython3",
   "version": "3.9.6"
  }
 },
 "nbformat": 4,
 "nbformat_minor": 4
}
