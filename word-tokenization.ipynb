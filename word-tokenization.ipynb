{
 "cells": [
  {
   "cell_type": "code",
   "execution_count": 1,
   "metadata": {},
   "outputs": [],
   "source": [
    "# Based on https://pythainlp.github.io/tutorials/notebooks/nlpo3ipynb.html\n",
    "\n",
    "import nlpo3"
   ]
  },
  {
   "cell_type": "code",
   "execution_count": 10,
   "metadata": {},
   "outputs": [
    {
     "data": {
      "text/plain": [
       "['อำนาจ', 'อธิปไตย', 'เป็น', 'ของ', 'ปวงชน', 'ชาวไทย']"
      ]
     },
     "execution_count": 10,
     "metadata": {},
     "output_type": "execute_result"
    }
   ],
   "source": [
    "nlpo3.segment(\"อำนาจอธิปไตยเป็นของปวงชนชาวไทย\")"
   ]
  },
  {
   "cell_type": "code",
   "execution_count": 15,
   "metadata": {},
   "outputs": [
    {
     "data": {
      "text/plain": [
       "['มะพร้าว', 'ทั้งหลาย', 'นี้', 'เป็น', 'ของ', 'ปวงชน', 'ชาว', 'เพ']"
      ]
     },
     "execution_count": 15,
     "metadata": {},
     "output_type": "execute_result"
    }
   ],
   "source": [
    "nlpo3.segment(\"มะพร้าวทั้งหลายนี้เป็นของปวงชนชาวเพ\")"
   ]
  }
 ],
 "metadata": {
  "kernelspec": {
   "display_name": "Python 3.9.5 64-bit",
   "language": "python",
   "name": "python39564bit34cf92e34ef4413faf5bc015b8d6eabe"
  },
  "language_info": {
   "codemirror_mode": {
    "name": "ipython",
    "version": 3
   },
   "file_extension": ".py",
   "mimetype": "text/x-python",
   "name": "python",
   "nbconvert_exporter": "python",
   "pygments_lexer": "ipython3",
   "version": "3.9.6"
  }
 },
 "nbformat": 4,
 "nbformat_minor": 4
}
